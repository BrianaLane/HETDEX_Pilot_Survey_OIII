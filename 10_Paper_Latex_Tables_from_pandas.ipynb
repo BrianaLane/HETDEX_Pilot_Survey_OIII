{
 "cells": [
  {
   "cell_type": "code",
   "execution_count": 24,
   "metadata": {},
   "outputs": [],
   "source": [
    "import matplotlib.pyplot as plt\n",
    "import seaborn as sns; sns.set()\n",
    "from astropy.table import Table, Column, join, unique\n",
    "from astropy.coordinates import SkyCoord\n",
    "import astropy.units as u\n",
    "from astropy.io import fits\n",
    "import pandas as pd\n",
    "import numpy as np\n",
    "import os\n",
    "import string as s\n",
    "import glob"
   ]
  },
  {
   "cell_type": "code",
   "execution_count": 25,
   "metadata": {},
   "outputs": [],
   "source": [
    "#deine the path to save the plots\n",
    "table_path = '/Users/Briana/Documents/Grad_School/HPS/Paper_tables'"
   ]
  },
  {
   "cell_type": "markdown",
   "metadata": {},
   "source": [
    "# Build Master Dataframe"
   ]
  },
  {
   "cell_type": "code",
   "execution_count": 26,
   "metadata": {},
   "outputs": [
    {
     "name": "stdout",
     "output_type": "stream",
     "text": [
      "Index([u'Selection', u'HPS_name', u'Hb_absorption', u'ID', u'Source',\n",
      "       u'[Ha]6562', u'[Ha]6562_e', u'[Hb]4861', u'[Hb]4861_e', u'[NII]6583',\n",
      "       u'[NII]6583_e', u'[NeIII]3870', u'[NeIII]3870_e', u'[Ne]3870',\n",
      "       u'[OIII]5007', u'[OIII]5007_e', u'[OIII]_HPS', u'[OIII]_e_HPS',\n",
      "       u'[OII]3727', u'[OII]3727_e', u'E(B-V)', u'E(B-V)_err', u'OIII_int_err',\n",
      "       u'OIII_intrinsic', u'met_err', u'metallicity', u'z', u'LogM',\n",
      "       u'LogM_eu', u'LogM_el', u'LogM_e', u'met_eu', u'met_el', u'E(B-V)_eu',\n",
      "       u'E(B-V)_el', u'OII_corr', u'OII_corr_eu', u'OII_corr_el', u'Lum_dist',\n",
      "       u'SFR', u'SFR_met_corr', u'SFR_met_corr_eu', u'SFR_met_corr_el',\n",
      "       u'SFR_eu', u'SFR_el', u'log_SFR_met_corr', u'log_SFR_met_corr_el',\n",
      "       u'log_SFR_met_corr_eu'],\n",
      "      dtype='object')\n",
      "    LogM_eu    met_eu  SFR_met_corr_eu\n",
      "0     0.127  0.101926         2.846638\n",
      "1     0.100  0.099669         6.138404\n",
      "2     0.098  0.135156         0.884668\n",
      "3     0.113  0.101564         1.331109\n",
      "4     0.072  0.102356         2.500072\n",
      "5     0.076  0.107515         1.003457\n",
      "6     0.090  0.135444         2.282193\n",
      "7     0.075  0.106403         1.193956\n",
      "8     0.071  0.097483         3.238248\n",
      "9     0.085  0.103369         1.165512\n",
      "10    0.075  0.100742         3.752531\n",
      "11    0.069  0.115013         0.659024\n",
      "12    0.067  0.091937         1.956747\n",
      "13    0.108  0.113949         0.705880\n",
      "14    0.118  0.163672         1.132998\n",
      "15    0.124  0.120615         0.520581\n",
      "16    0.108  0.118425         3.443630\n",
      "17    0.102  0.169193         1.630601\n",
      "18    0.118  0.130482         5.239532\n",
      "19    0.078  0.119654         0.417245\n",
      "20    0.059  0.214127         1.059176\n",
      "21    0.092  0.185500         0.634873\n",
      "22    0.085  0.135438         0.339296\n",
      "23    0.075  0.102364         0.764517\n",
      "24    0.087  0.148848         1.084260\n",
      "25    0.090  0.124999         1.154621\n",
      "26    0.085  0.115274         0.421508\n",
      "27    0.075  0.291457         0.248883\n",
      "28    0.086  0.651013         0.187213\n"
     ]
    }
   ],
   "source": [
    "hps_prop = pd.read_csv('/Users/Briana/Documents/Grad_School/HPS/HPS_dataframes/HPS_flux_prop_table.csv')\n",
    "hps_prop.rename(columns={'ID_x':'ID', 'Detect':'Selection'}, inplace=True)\n",
    "hps_prop.drop(columns=['Unnamed: 0', 'Unnamed: 0_x','Unnamed: 0_y','Unnamed: 0.1','ID_y' ], inplace=True)\n",
    "#print hps_prop.loc[:,['HPS_name', 'Selection', 'ID', 'z', 'LogM', 'metallicity']]\n",
    "print(hps_prop.columns)\n",
    "\n",
    "print(hps_prop.loc[:,['LogM_eu','met_eu', 'SFR_met_corr_eu']])"
   ]
  },
  {
   "cell_type": "code",
   "execution_count": 27,
   "metadata": {},
   "outputs": [],
   "source": [
    "hps_orig = pd.read_csv('/Users/Briana/Documents/Grad_School/HPS/HPS_dataframes/HPS_cat_table.dat')\n",
    "hps_orig_sub = hps_orig.loc[:,['HPS_name', 'OII_RA', 'OII_DEC', 'OII_EW', 'OIII1_RA', 'OIII1_DEC', 'OIII1_EW']]"
   ]
  },
  {
   "cell_type": "code",
   "execution_count": 28,
   "metadata": {},
   "outputs": [
    {
     "name": "stdout",
     "output_type": "stream",
     "text": [
      "Index([u'Selection', u'HPS_name', u'Hb_absorption', u'ID', u'Source',\n",
      "       u'[Ha]6562', u'[Ha]6562_e', u'[Hb]4861', u'[Hb]4861_e', u'[NII]6583',\n",
      "       u'[NII]6583_e', u'[NeIII]3870', u'[NeIII]3870_e', u'[Ne]3870',\n",
      "       u'[OIII]5007', u'[OIII]5007_e', u'[OIII]_HPS', u'[OIII]_e_HPS',\n",
      "       u'[OII]3727', u'[OII]3727_e', u'E(B-V)', u'E(B-V)_err', u'OIII_int_err',\n",
      "       u'OIII_intrinsic', u'met_err', u'metallicity', u'z', u'LogM',\n",
      "       u'LogM_eu', u'LogM_el', u'LogM_e', u'met_eu', u'met_el', u'E(B-V)_eu',\n",
      "       u'E(B-V)_el', u'OII_corr', u'OII_corr_eu', u'OII_corr_el', u'Lum_dist',\n",
      "       u'SFR', u'SFR_met_corr', u'SFR_met_corr_eu', u'SFR_met_corr_el',\n",
      "       u'SFR_eu', u'SFR_el', u'log_SFR_met_corr', u'log_SFR_met_corr_el',\n",
      "       u'log_SFR_met_corr_eu', u'RA', u'DEC', u'OII_EW', u'OIII_EW'],\n",
      "      dtype='object')\n"
     ]
    }
   ],
   "source": [
    "hps = pd.merge(hps_prop, hps_orig_sub, on='HPS_name', how='left')\n",
    "hps.rename(columns={'OII_RA':'RA', 'OII_DEC':'DEC', 'OIII1_EW':'OIII_EW'}, inplace=True)\n",
    "hps['RA'].iloc[27] = hps['OIII1_RA'].iloc[27]\n",
    "hps['DEC'].iloc[27] = hps['OIII1_DEC'].iloc[27]\n",
    "hps['RA'].iloc[28] = hps['OIII1_RA'].iloc[28]\n",
    "hps['DEC'].iloc[28] = hps['OIII1_DEC'].iloc[28]\n",
    "hps.drop(columns=['OIII1_RA', 'OIII1_DEC'], inplace=True)\n",
    "print (hps.columns)\n",
    "hps.to_csv('/Users/Briana/Documents/Grad_School/HPS/HPS_dataframes/HPS_all_props.csv')"
   ]
  },
  {
   "cell_type": "code",
   "execution_count": 29,
   "metadata": {},
   "outputs": [
    {
     "name": "stdout",
     "output_type": "stream",
     "text": [
      "            HPS_name   LogM  metallicity  [OII]3727  [OII]3727_e  [OIII]5007  \\\n",
      "27  HPS100021+021351  9.100     8.027626   1.012775     0.686858        2.44   \n",
      "28  HPS123652+621125  8.162     7.655729   0.902217     0.482808        0.66   \n",
      "\n",
      "    [OIII]5007_e  \n",
      "27      0.274354  \n",
      "28      0.206453  \n"
     ]
    }
   ],
   "source": [
    "print(hps[hps['Selection']=='[OIII]5007'].loc[:,['HPS_name', 'LogM', 'metallicity', '[OII]3727', '[OII]3727_e', '[OIII]5007', '[OIII]5007_e']])"
   ]
  },
  {
   "cell_type": "code",
   "execution_count": 30,
   "metadata": {},
   "outputs": [
    {
     "name": "stdout",
     "output_type": "stream",
     "text": [
      "   field  obj_id       z    Hb_FLUX    Hb_ERR         f_B        e_B  \\\n",
      "0    HPS      65  0.1121   2.480000  0.364706   85.507157   8.550716   \n",
      "1    HPS      35  0.0841  29.090000  0.309798    0.000000   0.000000   \n",
      "2    HPS     105  0.1094   2.370000  0.353731    5.764362   0.576436   \n",
      "3    HPS     138  0.1027   3.360000  0.270968   20.436104   2.043610   \n",
      "4    HPS     219  0.1231   4.030000  0.281818   37.724717   3.772472   \n",
      "5    HPS     225  0.1243   1.180000  0.173529   19.127132   1.912713   \n",
      "6    HPS     278  0.1226   3.680000  0.201093   26.081510   2.608151   \n",
      "7    HPS     326  0.1222   1.940000  0.269444   20.687192   2.068719   \n",
      "8    HPS     375  0.0786  14.130000  0.374801  133.585180  13.358518   \n",
      "9    HPS     386  0.0891   4.030000  0.213228   30.397075   3.039708   \n",
      "10   HPS     413  0.1389   4.360000  0.171654   51.505809   5.150581   \n",
      "11   HPS     449  0.0887   1.720000  0.215000   22.217765   2.221776   \n",
      "12   HPS     458  0.1359   2.670000  0.160843   40.499639   4.049964   \n",
      "13   HPS      44  0.1191   1.075966  0.778062    6.785431   0.678543   \n",
      "14   HPS      67  0.1123   1.793076  0.554232   15.757610   1.575761   \n",
      "15   HPS     118  0.1072   0.720058  0.303856    8.450770   0.845077   \n",
      "16   HPS     119  0.1121   6.801836  2.170695   37.616432   3.761643   \n",
      "17   HPS     129  0.1377   2.849915  1.128058    6.313213   0.631321   \n",
      "18   HPS     125  0.1118   6.880099  1.111779   90.095905   9.009590   \n",
      "19   HPS     158  0.0929   0.916447  0.459769   11.875906   1.187591   \n",
      "20   HPS     235  0.1317   0.558204  0.188152    6.076006   0.607601   \n",
      "21   HPS     237  0.1230   1.313333  0.177090    7.721906   0.772191   \n",
      "22   HPS     260  0.1063   0.515039  0.390069    5.736851   0.573685   \n",
      "23   HPS     300  0.1159   0.773608  0.571947   23.132617   2.313262   \n",
      "24   HPS     303  0.1448   1.605387  0.960756    7.123806   0.712381   \n",
      "25   HPS     363  0.1362   0.836500  0.492541   12.460556   1.246056   \n",
      "26   HPS     438  0.1053   0.575351  0.381803    8.607051   0.860705   \n",
      "\n",
      "           f_V        e_V        f_u  ...         f_r        e_r         f_i  \\\n",
      "0     0.000000   0.000000   0.000000  ...    0.000000   0.000000  480.466420   \n",
      "1     0.000000   0.000000  61.817488  ...  220.378410  22.037841  295.472510   \n",
      "2     0.000000   0.000000   0.000000  ...    0.000000   0.000000   10.998153   \n",
      "3     0.000000   0.000000   0.000000  ...    0.000000   0.000000   52.500799   \n",
      "4    67.375075   6.737507  20.345498  ...   89.786481   8.978648  134.760360   \n",
      "5    30.142987   3.014299  11.237651  ...   34.399175   3.439917   42.375244   \n",
      "6    38.517508   3.851751  15.597767  ...   41.953155   4.195315   51.108249   \n",
      "7    34.110883   3.411088  11.538843  ...   40.881305   4.088131   51.271029   \n",
      "8   170.877090  17.087709  75.096246  ...  224.626840  22.462684  269.653240   \n",
      "9    39.594375   3.959437  17.117120  ...   47.882656   4.788266   56.842303   \n",
      "10   70.300559   7.030056  31.230445  ...   86.930626   8.693063  120.434990   \n",
      "11   30.785646   3.078565  11.692204  ...   39.124595   3.912459   47.330248   \n",
      "12   63.769440   6.376944  23.022130  ...   86.280236   8.628024  114.270210   \n",
      "13    0.000000   0.000000   0.000000  ...    0.000000   0.000000   18.454013   \n",
      "14    0.000000   0.000000   0.000000  ...    0.000000   0.000000   81.494015   \n",
      "15    0.000000   0.000000   0.000000  ...    0.000000   0.000000   30.549378   \n",
      "16    0.000000   0.000000   0.000000  ...    0.000000   0.000000   91.620385   \n",
      "17    0.000000   0.000000   0.000000  ...    0.000000   0.000000   12.994911   \n",
      "18    0.000000   0.000000   0.000000  ...    0.000000   0.000000  317.695030   \n",
      "19   20.056142   2.005614   6.044230  ...   24.507341   2.450734   30.041101   \n",
      "20   20.556200   2.055620   1.924891  ...   48.155166   4.815517   83.950739   \n",
      "21   11.028037   1.102804   4.479716  ...   11.878939   1.187894   13.425649   \n",
      "22    8.493513   0.849351   3.185603  ...    9.526542   0.952654   11.401191   \n",
      "23   37.466484   3.746648  13.057676  ...   43.922848   4.392285   54.639035   \n",
      "24   12.410162   1.241016   4.226581  ...   15.573799   1.557380   24.840890   \n",
      "25   19.094236   1.909424   7.002639  ...   25.869220   2.586922   32.952211   \n",
      "26   10.991770   1.099177   4.832916  ...   13.550651   1.355065   16.811539   \n",
      "\n",
      "          e_i         f_z        e_z        f_J       e_J         f_K  \\\n",
      "0   48.046642  655.053970  65.505397   0.000000  0.000000    0.000000   \n",
      "1   29.547251  321.828580  32.182858   0.000000  0.000000    0.000000   \n",
      "2    1.099815   10.499584   1.049958   0.000000  0.000000    0.000000   \n",
      "3    5.250080   57.588878   5.758888   0.000000  0.000000    0.000000   \n",
      "4   13.476036  168.434180  16.843418  30.418146  3.041815  611.654730   \n",
      "5    4.237524   45.885557   4.588556   4.048492  1.271884   51.648601   \n",
      "6    5.110825   54.196456   5.419646  53.511091  5.351109   63.195204   \n",
      "7    5.127103   57.116529   5.711653   3.873496  0.447221   72.852329   \n",
      "8   26.965324  267.522590  26.752259   0.000000  0.000000  321.260450   \n",
      "9    5.684230   55.290280   5.529028   0.000000  0.000000   69.560747   \n",
      "10  12.043499  107.450700  10.745070   0.000000  0.000000  140.978930   \n",
      "11   4.733025   46.922497   4.692250   0.000000  0.000000   52.916923   \n",
      "12  11.427021  118.107920  11.810792   0.000000  0.000000  172.205020   \n",
      "13   1.845401   20.097329   2.009733   0.000000  0.000000    0.000000   \n",
      "14   8.149401  110.115150  11.011515   0.000000  0.000000    0.000000   \n",
      "15   3.054938   35.983305   3.598330   0.000000  0.000000    0.000000   \n",
      "16   9.162038  101.848830  10.184883   0.000000  0.000000    0.000000   \n",
      "17   1.299491   12.990906   1.299091   0.000000  0.000000    0.000000   \n",
      "18  31.769503  377.797930  37.779793   0.000000  0.000000    0.000000   \n",
      "19   3.004110   36.515909   3.651591   2.838471  1.377963   49.191741   \n",
      "20   8.395074  131.560350  13.156035  55.509203  5.550920  371.596790   \n",
      "21   1.342565   14.333448   1.433345   1.658082  1.236279   14.802574   \n",
      "22   1.140119   12.367952   1.236795   3.479507  3.499655   13.407713   \n",
      "23   5.463904   60.990469   6.099047   2.742580  1.260970   73.975743   \n",
      "24   2.484089   34.968522   3.496852  18.548725  1.854872  147.122910   \n",
      "25   3.295221   32.874623   3.287462   0.000000  0.000000   48.999836   \n",
      "26   1.681154   16.103777   1.610378   0.000000  0.000000   20.364226   \n",
      "\n",
      "          e_K  \n",
      "0    0.000000  \n",
      "1    0.000000  \n",
      "2    0.000000  \n",
      "3    0.000000  \n",
      "4   61.165473  \n",
      "5    5.164860  \n",
      "6    6.319520  \n",
      "7    7.285233  \n",
      "8   32.126045  \n",
      "9    6.956075  \n",
      "10  14.097893  \n",
      "11   5.291692  \n",
      "12  17.220502  \n",
      "13   0.000000  \n",
      "14   0.000000  \n",
      "15   0.000000  \n",
      "16   0.000000  \n",
      "17   0.000000  \n",
      "18   0.000000  \n",
      "19   4.919174  \n",
      "20  37.159679  \n",
      "21   1.480257  \n",
      "22   1.340771  \n",
      "23   7.397574  \n",
      "24  14.712291  \n",
      "25   4.899984  \n",
      "26   2.036423  \n",
      "\n",
      "[27 rows x 23 columns]\n"
     ]
    }
   ],
   "source": [
    "phot = pd.read_csv('/Users/Briana/Documents/Grad_School/HPS/hps_table.dat', sep='\\s+')\n",
    "print(phot)"
   ]
  },
  {
   "cell_type": "markdown",
   "metadata": {},
   "source": [
    "# Build Object Table"
   ]
  },
  {
   "cell_type": "code",
   "execution_count": 31,
   "metadata": {},
   "outputs": [],
   "source": [
    "hps_objs = hps.loc[:,['HPS_name', 'ID','Selection', 'z', 'RA', 'DEC']]\n",
    "hps_objs.to_csv('/Users/Briana/Documents/Grad_School/HPS/Paper_tables/hps_objs_enhanced.csv')"
   ]
  },
  {
   "cell_type": "code",
   "execution_count": 32,
   "metadata": {},
   "outputs": [
    {
     "name": "stderr",
     "output_type": "stream",
     "text": [
      "/Users/Briana/anaconda2/lib/python2.7/site-packages/ipykernel_launcher.py:2: FutureWarning: read_table is deprecated, use read_csv instead, passing sep='\\t'.\n",
      "  \n"
     ]
    }
   ],
   "source": [
    "#get table that lists the HPS fields by RA\n",
    "hps_fields = pd.read_table('/Users/Briana/Documents/Grad_School/HPS/HPS_dataframes/hps_fields.txt', delimiter=None, header=50, skiprows=[52,53])\n",
    "\n",
    "def build_astropy_coords(row):\n",
    "    ra  = row['RAJ2000'].split()\n",
    "    dec = row['DEJ2000'].split()\n",
    "    c = SkyCoord(ra[0]+'h'+ra[1]+'m'+ra[2]+'s', dec[0]+'d'+dec[1]+'m'+dec[2]+'s', frame='icrs')\n",
    "    return np.round(c.ra.degree,0)\n",
    "\n",
    "hps_fields['RA_round'] = hps_fields.apply(build_astropy_coords, axis=1)\n",
    "hps_fields = hps_fields.loc[:,['Field', 'RA_round']]\n",
    "\n",
    "hps_objs['RA_round'] = np.round(hps_objs['RA'],0)\n",
    "hps_objs = pd.merge(hps_objs, hps_fields, on='RA_round', how='left')\n",
    "hps_objs = hps_objs.loc[:,['HPS_name', 'ID','Selection', 'z', 'RA', 'DEC', 'Field']]"
   ]
  },
  {
   "cell_type": "code",
   "execution_count": 33,
   "metadata": {},
   "outputs": [
    {
     "name": "stdout",
     "output_type": "stream",
     "text": [
      "    HPS_name      ID Selection     z        RA        DEC      Field  \n",
      "---------------- --- ---------- ------- ---------- --------- ---------\n",
      "HPS022127-043019  35  [OII]3727  0.0841  35.364375 -4.505306 XMM-LSS  \n",
      "HPS030630+000128  44  [OII]3727  0.1191  46.628042  0.024667 MUNICS-S2\n",
      "HPS030638+000015  65  [OII]3727  0.1121  46.661458 -0.004417 MUNICS-S2\n",
      "HPS030638+000240  67  [OII]3727  0.1123  46.662125 -0.044472 MUNICS-S2\n",
      "HPS030649+000314 105  [OII]3727  0.1094  46.707250 -0.054000 MUNICS-S2\n",
      "HPS030651-000234 118  [OII]3727  0.1072  46.716417 -0.042972 MUNICS-S2\n",
      "HPS030652+000123 119  [OII]3727  0.1121  46.716750  0.023167 MUNICS-S2\n",
      "HPS030655-000050 125  [OII]3727  0.1118  46.729583 -0.013972 MUNICS-S2\n",
      "HPS030655+000213 129  [OII]3727  0.1377  46.732542  0.037083 MUNICS-S2\n",
      "HPS030657+000139 138  [OII]3727  0.1027  46.740125 -0.027528 MUNICS-S2\n",
      "             ... ...        ...     ...        ...       ...       ...\n",
      "HPS100037+021254 300  [OII]3727  0.1159 150.156333  2.215167 COSMOS   \n",
      "HPS100039+021246 303  [OII]3727  0.1448 150.163875  2.212917 COSMOS   \n",
      "HPS100045+021823 326  [OII]3727  0.1222 150.188417  2.306500 COSMOS   \n",
      "HPS123632+621037 363  [OII]3727  0.1362 189.135333 62.176917 GOODS-N  \n",
      "HPS123636+621135 375  [OII]3727  0.0786 189.152958 62.193139 GOODS-N  \n",
      "HPS123641+621131 386  [OII]3727  0.0891 189.173708 62.192139 GOODS-N  \n",
      "HPS123648+621426 413  [OII]3727  0.1389 189.200958 62.240750 GOODS-N  \n",
      "HPS123652+621125 430 [OIII]5007  0.0889 189.216792 62.190528 GOODS-N  \n",
      "HPS123656+621420 438  [OII]3727  0.1053 189.235417 62.238750 GOODS-N  \n",
      "HPS123659+621404 449  [OII]3727  0.0887 189.247917 62.234694 GOODS-N  \n",
      "HPS123702+621123 458  [OII]3727  0.1359 189.258917 62.189917 GOODS-N  \n",
      "Length = 29 rows\n"
     ]
    }
   ],
   "source": [
    "obj_table = Table.from_pandas(hps_objs)\n",
    "obj_table['ID'] = obj_table['ID'].astype(int)\n",
    "\n",
    "round_objs = ['RA', 'DEC']\n",
    "for c in round_objs:\n",
    "    obj_table[c].format = '7.6f'\n",
    "obj_table['z'].format = '7.4f'\n",
    "\n",
    "obj_table.sort(['ID'])\n",
    "\n",
    "print (obj_table )   \n",
    "obj_table.write(os.path.join(table_path, 'HPS_objs.tex'), format='ascii.aastex', overwrite=True)"
   ]
  },
  {
   "cell_type": "markdown",
   "metadata": {},
   "source": [
    "# Build Flux Table"
   ]
  },
  {
   "cell_type": "code",
   "execution_count": 34,
   "metadata": {},
   "outputs": [
    {
     "name": "stdout",
     "output_type": "stream",
     "text": [
      "    HPS_name      ID Source ...    [OIII]5007     Hb_absorption \n",
      "---------------- --- ------ ... ---------------- ---------------\n",
      "HPS022127-043019  35    HPS ... 39.230$\\pm$0.375 8.912$\\pm$2.673\n",
      "HPS030630+000128  44   LRS2 ...  3.055$\\pm$0.273 0.664$\\pm$0.199\n",
      "HPS030638+000015  65    HPS ...  6.700$\\pm$1.218 8.694$\\pm$2.608\n",
      "HPS030638+000240  67   LRS2 ...  0.073$\\pm$1.008 1.450$\\pm$0.435\n",
      "HPS030649+000314 105    HPS ...  5.890$\\pm$0.364 0.498$\\pm$0.149\n",
      "HPS030651-000234 118   LRS2 ...  1.663$\\pm$0.323 0.680$\\pm$0.204\n",
      "HPS030652+000123 119   LRS2 ... 13.679$\\pm$0.943 3.366$\\pm$1.010\n",
      "HPS030655-000050 125   LRS2 ... 14.999$\\pm$2.330 7.120$\\pm$2.136\n",
      "HPS030655+000213 129   LRS2 ...  7.685$\\pm$0.651 0.593$\\pm$0.178\n",
      "HPS030657+000139 138    HPS ...  5.140$\\pm$0.221 1.895$\\pm$0.568\n",
      "             ... ...    ... ...              ...             ...\n",
      "HPS100032+021356 278    HPS ... 15.240$\\pm$0.230 2.086$\\pm$0.626\n",
      "HPS100037+021254 300   LRS2 ...  1.762$\\pm$0.203 1.670$\\pm$0.501\n",
      "HPS100039+021246 303   LRS2 ...  3.773$\\pm$0.507 0.407$\\pm$0.122\n",
      "HPS100045+021823 326    HPS ...  3.670$\\pm$0.240 1.339$\\pm$0.402\n",
      "HPS123632+621037 363   LRS2 ...  1.569$\\pm$0.465 0.799$\\pm$0.240\n",
      "HPS123636+621135 375    HPS ... 19.270$\\pm$0.326 9.521$\\pm$2.856\n",
      "HPS123641+621131 386    HPS ...  7.300$\\pm$0.285 2.301$\\pm$0.690\n",
      "HPS123648+621426 413    HPS ...  6.730$\\pm$0.186 3.736$\\pm$1.121\n",
      "HPS123656+621420 438   LRS2 ...  1.268$\\pm$0.220 0.703$\\pm$0.211\n",
      "HPS123659+621404 449    HPS ...  4.890$\\pm$0.223 1.443$\\pm$0.433\n",
      "HPS123702+621123 458    HPS ...  3.050$\\pm$0.153 2.503$\\pm$0.751\n",
      "Length = 27 rows\n"
     ]
    }
   ],
   "source": [
    "#OII Fluxes\n",
    "\n",
    "hps_fluxes = hps[hps['Selection']=='[OII]3727'].loc[:,['HPS_name', 'ID', 'Source', '[OII]3727', '[OII]3727_e', '[NeIII]3870', '[NeIII]3870_e', '[Hb]4861', '[Hb]4861_e', '[OIII]5007', '[OIII]5007_e', 'Hb_absorption']]\n",
    "hps_fluxes['Hb_absorption_e'] = hps_fluxes['Hb_absorption']*0.3\n",
    "\n",
    "hps_fluxes.to_csv('/Users/Briana/Documents/Grad_School/HPS/Paper_tables/hps_fluxes_OII_enhanced.csv')\n",
    "\n",
    "flux_lis = ['[OII]3727', '[NeIII]3870', '[Hb]4861', '[OIII]5007', 'Hb_absorption']\n",
    "\n",
    "for f in flux_lis:\n",
    "    fstr = [(str(\"%.3f\" % round(hps_fluxes[f].iloc[i],3))+r'$\\pm$'+str(\"%.3f\" % round(hps_fluxes[f+'_e'].iloc[i],3))) if ~np.isnan(hps_fluxes[f].iloc[i]) else r'\\nodata'  for i in range(len(hps_fluxes))]\n",
    "    hps_fluxes[f] = fstr\n",
    "    \n",
    "hps_fluxes = hps_fluxes.loc[:,['HPS_name', 'ID', 'Source', '[OII]3727', '[NeIII]3870', '[Hb]4861','[OIII]5007','Hb_absorption']]\n",
    "\n",
    "flux_table = Table.from_pandas(hps_fluxes)\n",
    "flux_table['ID'] = flux_table['ID'].astype(int)\n",
    "\n",
    "flux_table.sort(['ID'])\n",
    "    \n",
    "print (flux_table)\n",
    "flux_table.write(os.path.join(table_path, 'HPS_Fluxes_OII.tex'), format='ascii.aastex', overwrite=True)"
   ]
  },
  {
   "cell_type": "code",
   "execution_count": 35,
   "metadata": {},
   "outputs": [
    {
     "name": "stdout",
     "output_type": "stream",
     "text": [
      "    HPS_name      ID Source ...     [Ha]6562       [NII]6583     Hb_absorption \n",
      "---------------- --- ------ ... --------------- --------------- ---------------\n",
      "HPS100021+021351 234   LRS2 ... 1.428$\\pm$0.152 0.074$\\pm$0.058 0.120$\\pm$0.036\n",
      "HPS123652+621125 430   LRS2 ... 1.208$\\pm$0.127 0.015$\\pm$0.044 0.300$\\pm$0.090\n"
     ]
    }
   ],
   "source": [
    "#OIII Fluxes\n",
    "\n",
    "hps_fluxes = hps[hps['Selection']=='[OIII]5007'].loc[:,['HPS_name', 'ID', 'Source', '[OII]3727', '[OII]3727_e', '[NeIII]3870', '[NeIII]3870_e', '[Hb]4861', '[Hb]4861_e', '[OIII]5007', '[OIII]5007_e','[Ha]6562', '[Ha]6562_e', '[NII]6583', '[NII]6583_e', 'Hb_absorption']]\n",
    "hps_fluxes['Hb_absorption_e'] = hps_fluxes['Hb_absorption']*0.3\n",
    "\n",
    "hps_fluxes.to_csv('/Users/Briana/Documents/Grad_School/HPS/Paper_tables/hps_fluxes_OIII_enhanced.csv')\n",
    "\n",
    "flux_lis = ['[OII]3727', '[NeIII]3870', '[Hb]4861', '[OIII]5007', '[Ha]6562', '[NII]6583', 'Hb_absorption']\n",
    "for f in flux_lis:\n",
    "    fstr = [(str(\"%.3f\" % round(hps_fluxes[f].iloc[i],3))+r'$\\pm$'+str(\"%.3f\" % round(hps_fluxes[f+'_e'].iloc[i],3))) if ~np.isnan(hps_fluxes[f].iloc[i]) else r'\\nodata'  for i in range(len(hps_fluxes))]\n",
    "    hps_fluxes[f] = fstr\n",
    "    \n",
    "hps_fluxes = hps_fluxes.loc[:,['HPS_name', 'ID', 'Source', '[OII]3727', '[NeIII]3870', '[Hb]4861','[OIII]5007', '[Ha]6562', '[NII]6583','Hb_absorption']]\n",
    "\n",
    "flux_table = Table.from_pandas(hps_fluxes)\n",
    "flux_table['ID'] = flux_table['ID'].astype(int)\n",
    "\n",
    "flux_table.sort(['ID'])\n",
    "    \n",
    "print (flux_table)\n",
    "flux_table.write(os.path.join(table_path, 'HPS_Fluxes_OIII.tex'), format='ascii.aastex', overwrite=True)"
   ]
  },
  {
   "cell_type": "markdown",
   "metadata": {},
   "source": [
    "# Build LRS2 Observation Table"
   ]
  },
  {
   "cell_type": "code",
   "execution_count": 36,
   "metadata": {},
   "outputs": [],
   "source": [
    "#lines = pd.read_csv('/Volumes/Bri_USB/hps_lrs2_fits_wNe_4.csv')\n",
    "lines = pd.read_csv('/Users/Briana/Documents/Grad_School/HPS/HPS_dataframes/hps_lrs2_fits_wNe_4.csv')\n",
    "OIII_lines = pd.read_csv('/Users/Briana/Documents/Grad_School/HPS/HPS_dataframes/hps_lsr2_fits_wNe_OIIIobs.csv')"
   ]
  },
  {
   "cell_type": "code",
   "execution_count": 37,
   "metadata": {},
   "outputs": [],
   "source": [
    "#remove row 35 because no signal and row 25, 37 because bad data\n",
    "lines = lines[lines['HPS_name'] != 'HPS123652+621125']\n",
    "lines = lines[lines['HPS_name'] != 'HPS100021+021351']\n",
    "lines = lines.drop([37], axis=0)\n",
    "lines = lines.loc[:, ~lines.columns.str.contains('^Unnamed')]\n",
    "OIII_lines = OIII_lines.loc[:, ~OIII_lines.columns.str.contains('^Unnamed')]\n",
    "lines['Selection'] = 'OII'\n",
    "OIII_lines['Selection'] = 'OIII'\n",
    "lines = lines.append(OIII_lines, sort=True)\n",
    "lines = lines.reset_index()\n",
    "\n",
    "obs_lis = lines['Obs_ID'].str.split(pat = \"_\", expand=True)\n",
    "lines['Date'] = obs_lis.iloc[:,0]\n",
    "lines['obs'] = obs_lis.iloc[:,1].str.split(pat='s', expand=True).iloc[:,1]\n",
    "lines['exp'] = obs_lis.iloc[:,2]\n",
    "lines['exptime'] = None"
   ]
  },
  {
   "cell_type": "code",
   "execution_count": 38,
   "metadata": {},
   "outputs": [
    {
     "ename": "IndexError",
     "evalue": "list index out of range",
     "output_type": "error",
     "traceback": [
      "\u001b[0;31m---------------------------------------------------------------------------\u001b[0m",
      "\u001b[0;31mIndexError\u001b[0m                                Traceback (most recent call last)",
      "\u001b[0;32m<ipython-input-38-1c5c16c9d1c6>\u001b[0m in \u001b[0;36m<module>\u001b[0;34m()\u001b[0m\n\u001b[1;32m      2\u001b[0m     \u001b[0;32mif\u001b[0m \u001b[0mlines\u001b[0m\u001b[0;34m[\u001b[0m\u001b[0;34m'Selection'\u001b[0m\u001b[0;34m]\u001b[0m\u001b[0;34m.\u001b[0m\u001b[0miloc\u001b[0m\u001b[0;34m[\u001b[0m\u001b[0mi\u001b[0m\u001b[0;34m]\u001b[0m \u001b[0;34m==\u001b[0m \u001b[0;34m'OII'\u001b[0m\u001b[0;34m:\u001b[0m\u001b[0;34m\u001b[0m\u001b[0m\n\u001b[1;32m      3\u001b[0m         \u001b[0mfil\u001b[0m \u001b[0;34m=\u001b[0m \u001b[0mglob\u001b[0m\u001b[0;34m.\u001b[0m\u001b[0mglob\u001b[0m\u001b[0;34m(\u001b[0m\u001b[0;34m'/Volumes/BRIANA_3T/external_backup_3/HPS/LRS2_reduction_greg/reductions3/'\u001b[0m\u001b[0;34m+\u001b[0m\u001b[0mstr\u001b[0m\u001b[0;34m(\u001b[0m\u001b[0mlines\u001b[0m\u001b[0;34m[\u001b[0m\u001b[0;34m'Date'\u001b[0m\u001b[0;34m]\u001b[0m\u001b[0;34m.\u001b[0m\u001b[0miloc\u001b[0m\u001b[0;34m[\u001b[0m\u001b[0mi\u001b[0m\u001b[0;34m]\u001b[0m\u001b[0;34m)\u001b[0m\u001b[0;34m+\u001b[0m\u001b[0;34m'/lrs2/lrs2*'\u001b[0m\u001b[0;34m+\u001b[0m\u001b[0mstr\u001b[0m\u001b[0;34m(\u001b[0m\u001b[0mlines\u001b[0m\u001b[0;34m[\u001b[0m\u001b[0;34m'obs'\u001b[0m\u001b[0;34m]\u001b[0m\u001b[0;34m.\u001b[0m\u001b[0miloc\u001b[0m\u001b[0;34m[\u001b[0m\u001b[0mi\u001b[0m\u001b[0;34m]\u001b[0m\u001b[0;34m)\u001b[0m\u001b[0;34m+\u001b[0m\u001b[0;34m'/'\u001b[0m\u001b[0;34m+\u001b[0m\u001b[0mlines\u001b[0m\u001b[0;34m[\u001b[0m\u001b[0;34m'exp'\u001b[0m\u001b[0;34m]\u001b[0m\u001b[0;34m.\u001b[0m\u001b[0miloc\u001b[0m\u001b[0;34m[\u001b[0m\u001b[0mi\u001b[0m\u001b[0;34m]\u001b[0m\u001b[0;34m+\u001b[0m\u001b[0;34m'/lrs2/spectrum_uv.fits'\u001b[0m\u001b[0;34m)\u001b[0m\u001b[0;34m\u001b[0m\u001b[0m\n\u001b[0;32m----> 4\u001b[0;31m         \u001b[0mdat\u001b[0m\u001b[0;34m,\u001b[0m \u001b[0mhdr\u001b[0m \u001b[0;34m=\u001b[0m \u001b[0mfits\u001b[0m\u001b[0;34m.\u001b[0m\u001b[0mgetdata\u001b[0m\u001b[0;34m(\u001b[0m\u001b[0mfil\u001b[0m\u001b[0;34m[\u001b[0m\u001b[0;36m0\u001b[0m\u001b[0;34m]\u001b[0m\u001b[0;34m,\u001b[0m \u001b[0;36m0\u001b[0m\u001b[0;34m,\u001b[0m \u001b[0mheader\u001b[0m\u001b[0;34m=\u001b[0m\u001b[0mTrue\u001b[0m\u001b[0;34m)\u001b[0m\u001b[0;34m\u001b[0m\u001b[0m\n\u001b[0m\u001b[1;32m      5\u001b[0m         \u001b[0mexptime\u001b[0m \u001b[0;34m=\u001b[0m \u001b[0mhdr\u001b[0m\u001b[0;34m[\u001b[0m\u001b[0;34m'EXPTIME'\u001b[0m\u001b[0;34m]\u001b[0m\u001b[0;34m\u001b[0m\u001b[0m\n\u001b[1;32m      6\u001b[0m         \u001b[0mlines\u001b[0m\u001b[0;34m.\u001b[0m\u001b[0mat\u001b[0m\u001b[0;34m[\u001b[0m\u001b[0mi\u001b[0m\u001b[0;34m,\u001b[0m \u001b[0;34m'exptime'\u001b[0m\u001b[0;34m]\u001b[0m \u001b[0;34m=\u001b[0m \u001b[0mexptime\u001b[0m\u001b[0;34m\u001b[0m\u001b[0m\n",
      "\u001b[0;31mIndexError\u001b[0m: list index out of range"
     ]
    }
   ],
   "source": [
    "for i in range(len(lines)):\n",
    "    if lines['Selection'].iloc[i] == 'OII':\n",
    "        fil = glob.glob('/Volumes/BRIANA_3T/external_backup_3/HPS/LRS2_reduction_greg/reductions3/'+str(lines['Date'].iloc[i])+'/lrs2/lrs2*'+str(lines['obs'].iloc[i])+'/'+lines['exp'].iloc[i]+'/lrs2/spectrum_uv.fits')\n",
    "        dat, hdr = fits.getdata(fil[0], 0, header=True)\n",
    "        exptime = hdr['EXPTIME']\n",
    "        lines.at[i, 'exptime'] = exptime\n",
    "        \n",
    "#group the observations by name and date - add the expsoure times \n",
    "lines = lines.loc[:,['HPS_name', 'Date','obs', 'exp', 'exptime']]\n",
    "line_groups = pd.DataFrame({'Exposure Time' : lines.groupby( [ \"HPS_name\", \"Date\"] )[\"exptime\"].sum()}).reset_index()\n",
    "line_groups['Instrument'] = 'LRS2-Blue'\n",
    "line_groups = line_groups.round({'Exposure Time': 2})\n",
    "\n",
    "#manually add row for the OIII emitter observations no included \n",
    "line_groups.loc[13, 'Exposure Time'] = 1615.91\n",
    "line_groups.loc[20, 'Exposure Time'] = 1815.59\n",
    "line_groups = line_groups.append({'HPS_name':'HPS100021+021351', 'Date':20190126, 'Exposure Time':1816.91 ,'Instrument':'LRS2-Red'}, ignore_index=True)\n",
    "line_groups = line_groups.append({'HPS_name':'HPS123652+621125', 'Date':20190202, 'Exposure Time':1817.14 ,'Instrument':'LRS2-Red'}, ignore_index=True)\n",
    "line_groups = line_groups.append({'HPS_name':'HPS123652+621125', 'Date':20190316, 'Exposure Time':2416.51+2416.92+2415.97 ,'Instrument':'LRS2-Red'}, ignore_index=True)\n",
    "\n",
    "line_groups.sort_values(by=['HPS_name', 'Date'], inplace=True)"
   ]
  },
  {
   "cell_type": "code",
   "execution_count": 39,
   "metadata": {},
   "outputs": [
    {
     "ename": "NameError",
     "evalue": "name 'line_groups' is not defined",
     "output_type": "error",
     "traceback": [
      "\u001b[0;31m---------------------------------------------------------------------------\u001b[0m",
      "\u001b[0;31mNameError\u001b[0m                                 Traceback (most recent call last)",
      "\u001b[0;32m<ipython-input-39-af47a78119a2>\u001b[0m in \u001b[0;36m<module>\u001b[0;34m()\u001b[0m\n\u001b[1;32m      1\u001b[0m \u001b[0mhps_ids\u001b[0m \u001b[0;34m=\u001b[0m \u001b[0mhps\u001b[0m\u001b[0;34m.\u001b[0m\u001b[0mloc\u001b[0m\u001b[0;34m[\u001b[0m\u001b[0;34m:\u001b[0m\u001b[0;34m,\u001b[0m\u001b[0;34m[\u001b[0m\u001b[0;34m'HPS_name'\u001b[0m\u001b[0;34m,\u001b[0m \u001b[0;34m'ID'\u001b[0m\u001b[0;34m]\u001b[0m\u001b[0;34m]\u001b[0m\u001b[0;34m\u001b[0m\u001b[0m\n\u001b[0;32m----> 2\u001b[0;31m \u001b[0mlrs2_dates\u001b[0m \u001b[0;34m=\u001b[0m \u001b[0mpd\u001b[0m\u001b[0;34m.\u001b[0m\u001b[0mmerge\u001b[0m\u001b[0;34m(\u001b[0m\u001b[0mline_groups\u001b[0m\u001b[0;34m,\u001b[0m \u001b[0mhps_ids\u001b[0m\u001b[0;34m,\u001b[0m \u001b[0mon\u001b[0m\u001b[0;34m=\u001b[0m\u001b[0;34m'HPS_name'\u001b[0m\u001b[0;34m,\u001b[0m \u001b[0mhow\u001b[0m\u001b[0;34m=\u001b[0m\u001b[0;34m'left'\u001b[0m\u001b[0;34m)\u001b[0m\u001b[0;34m\u001b[0m\u001b[0m\n\u001b[0m\u001b[1;32m      3\u001b[0m \u001b[0mlrs2_dates\u001b[0m \u001b[0;34m=\u001b[0m \u001b[0mlrs2_dates\u001b[0m\u001b[0;34m.\u001b[0m\u001b[0mloc\u001b[0m\u001b[0;34m[\u001b[0m\u001b[0;34m:\u001b[0m\u001b[0;34m,\u001b[0m\u001b[0;34m[\u001b[0m\u001b[0;34m'HPS_name'\u001b[0m\u001b[0;34m,\u001b[0m \u001b[0;34m'ID'\u001b[0m\u001b[0;34m,\u001b[0m \u001b[0;34m'Date'\u001b[0m\u001b[0;34m,\u001b[0m \u001b[0;34m'Exposure Time'\u001b[0m\u001b[0;34m,\u001b[0m \u001b[0;34m'Instrument'\u001b[0m\u001b[0;34m]\u001b[0m\u001b[0;34m]\u001b[0m\u001b[0;34m\u001b[0m\u001b[0m\n\u001b[1;32m      4\u001b[0m \u001b[0;34m\u001b[0m\u001b[0m\n\u001b[1;32m      5\u001b[0m \u001b[0mnew_inst\u001b[0m \u001b[0;34m=\u001b[0m \u001b[0;34m[\u001b[0m\u001b[0mlrs2_dates\u001b[0m\u001b[0;34m[\u001b[0m\u001b[0;34m'Instrument'\u001b[0m\u001b[0;34m]\u001b[0m\u001b[0;34m.\u001b[0m\u001b[0miloc\u001b[0m\u001b[0;34m[\u001b[0m\u001b[0mi\u001b[0m\u001b[0;34m]\u001b[0m\u001b[0;34m[\u001b[0m\u001b[0;36m0\u001b[0m\u001b[0;34m:\u001b[0m\u001b[0;36m6\u001b[0m\u001b[0;34m]\u001b[0m \u001b[0;32mfor\u001b[0m \u001b[0mi\u001b[0m \u001b[0;32min\u001b[0m \u001b[0mrange\u001b[0m\u001b[0;34m(\u001b[0m\u001b[0mlen\u001b[0m\u001b[0;34m(\u001b[0m\u001b[0mlrs2_dates\u001b[0m\u001b[0;34m)\u001b[0m\u001b[0;34m)\u001b[0m\u001b[0;34m]\u001b[0m\u001b[0;34m\u001b[0m\u001b[0m\n",
      "\u001b[0;31mNameError\u001b[0m: name 'line_groups' is not defined"
     ]
    }
   ],
   "source": [
    "hps_ids = hps.loc[:,['HPS_name', 'ID']]\n",
    "lrs2_dates = pd.merge(line_groups, hps_ids, on='HPS_name', how='left')\n",
    "lrs2_dates = lrs2_dates.loc[:,['HPS_name', 'ID', 'Date', 'Exposure Time', 'Instrument']]\n",
    "\n",
    "new_inst = [lrs2_dates['Instrument'].iloc[i][0:6] for i in range(len(lrs2_dates))]\n",
    "lrs2_dates['Instrument'] = new_inst\n",
    "\n",
    "lrs2_table = Table.from_pandas(lrs2_dates)\n",
    "lrs2_table['ID'] = lrs2_table['ID'].astype(int)\n",
    "\n",
    "lrs2_table.sort(['ID'])\n",
    "lrs2_table['Exposure Time'].format = '7.2f'\n",
    "\n",
    "print (lrs2_table)\n",
    "lrs2_table.write(os.path.join(table_path, 'HPS_lrs2_obs.tex'), format='ascii.aastex', overwrite=True)"
   ]
  },
  {
   "cell_type": "markdown",
   "metadata": {},
   "source": [
    "# Build HPS Properties Table"
   ]
  },
  {
   "cell_type": "code",
   "execution_count": 40,
   "metadata": {},
   "outputs": [
    {
     "name": "stdout",
     "output_type": "stream",
     "text": [
      "    LogM_eu    met_eu  E(B-V)_eu  log_SFR_met_corr_eu\n",
      "0     0.127  0.101926   0.153066             0.264991\n",
      "1     0.100  0.099669   0.147990             0.338250\n",
      "2     0.098  0.135156   0.161233             0.524529\n",
      "3     0.113  0.101564   0.154612             0.350625\n",
      "4     0.072  0.102356   0.151050             0.331218\n",
      "5     0.076  0.107515   0.156370             0.389381\n",
      "6     0.090  0.135444   0.159118             0.566158\n",
      "7     0.075  0.106403   0.152583             0.356241\n",
      "8     0.071  0.097483   0.148832             0.307604\n",
      "9     0.085  0.103369   0.149293             0.350573\n",
      "10    0.075  0.100742   0.154731             0.311384\n",
      "11    0.069  0.115013   0.155357             0.428310\n",
      "12    0.067  0.091937   0.148908             0.254171\n",
      "13    0.108  0.113949   0.158125             0.446275\n",
      "14    0.118  0.163672   0.170770             0.280960\n",
      "15    0.124  0.120615   0.163691             0.399362\n",
      "16    0.108  0.118425   0.154295             0.410852\n",
      "17    0.102  0.169193   0.163729             0.616566\n",
      "18    0.118  0.130482   0.163682             0.425234\n",
      "19    0.078  0.119654   0.161940             0.423981\n",
      "20    0.059  0.214127   0.168994             0.553294\n",
      "21    0.092  0.185500   0.167093             0.399898\n",
      "22    0.085  0.135438   0.165832             0.457048\n",
      "23    0.075  0.102364   0.154007             0.308830\n",
      "24    0.087  0.148848   0.167185             0.558844\n",
      "25    0.090  0.124999   0.165681             0.360784\n",
      "26    0.085  0.115274   0.163485             0.376617\n",
      "27    0.075  0.291457   0.176862             1.223462\n",
      "28    0.086  0.651013   0.181013             1.521414\n"
     ]
    }
   ],
   "source": [
    "print(hps.loc[:, ['LogM_eu', 'met_eu', 'E(B-V)_eu','log_SFR_met_corr_eu']])"
   ]
  },
  {
   "cell_type": "code",
   "execution_count": 41,
   "metadata": {},
   "outputs": [
    {
     "name": "stdout",
     "output_type": "stream",
     "text": [
      "            HPS_name     ID    LogM  metallicity    E(B-V)    LogSFR  LogM_eu  \\\n",
      "0   HPS030638+000015   65.0  10.800     8.891323  0.342487  0.668592    0.127   \n",
      "1   HPS022127-043019   35.0   9.989     8.773487  0.395548  0.896308    0.100   \n",
      "2   HPS030649+000314  105.0   8.712     8.565194  0.396673 -0.135499    0.098   \n",
      "3   HPS030657+000139  138.0   9.472     8.775848  0.410992  0.216860    0.113   \n",
      "4   HPS100018+021818  219.0  10.374     8.792618  0.334123  0.515328    0.072   \n",
      "5   HPS100018+021426  225.0   9.420     8.727978  0.381651  0.048613    0.076   \n",
      "6   HPS100032+021356  278.0   9.472     8.497223  0.393656  0.242905    0.090   \n",
      "7   HPS100045+021823  326.0   9.554     8.762508  0.363982  0.162735    0.075   \n",
      "8   HPS123636+621135  375.0   9.799     8.820106  0.415997  0.659808    0.071   \n",
      "9   HPS123641+621131  386.0   9.234     8.760042  0.358003  0.159228    0.085   \n",
      "10  HPS123648+621426  413.0   9.902     8.830266  0.345013  0.718518    0.075   \n",
      "11  HPS123659+621404  449.0   9.143     8.671799  0.403593 -0.175368    0.069   \n",
      "12  HPS123702+621123  458.0   9.988     8.897069  0.341155  0.523898    0.067   \n",
      "13  HPS030630+000128   44.0   9.174     8.659576  0.371884 -0.163382    0.108   \n",
      "14  HPS030638+000240   67.0  10.108     8.983205  0.417700  0.243075    0.118   \n",
      "15  HPS030651-000234  118.0   9.438     8.747863  0.363599 -0.247389    0.124   \n",
      "16  HPS030652+000123  119.0   9.793     8.694257  0.405305  0.560821    0.108   \n",
      "17  HPS030655+000213  129.0   9.010     8.467661  0.432276  0.059858    0.102   \n",
      "18  HPS030655-000050  125.0  10.450     8.743019  0.447132  0.728154    0.118   \n",
      "19  HPS100008+021542  158.0   9.163     8.708249  0.360206 -0.369466    0.078   \n",
      "20  HPS100021+021223  235.0  10.434     8.649015  0.408697 -0.080498    0.059   \n",
      "21  HPS100021+021237  237.0   8.871     8.826073  0.450246 -0.161773    0.092   \n",
      "22  HPS100028+021858  260.0   8.723     8.691292  0.388331 -0.491893    0.085   \n",
      "23  HPS100037+021254  300.0   9.519     8.835848  0.409861  0.031158    0.075   \n",
      "24  HPS100039+021246  303.0   9.924     8.552775  0.424502 -0.074667    0.087   \n",
      "25  HPS123632+621037  363.0   9.461     8.805535  0.333027  0.142682    0.090   \n",
      "26  HPS123656+621420  438.0   8.836     8.781437  0.382171 -0.313604    0.085   \n",
      "27  HPS100021+021351  234.0   9.100     8.027626  0.499369 -1.054106    0.075   \n",
      "28  HPS123652+621125  430.0   8.162     7.655729  0.488633 -1.272422    0.086   \n",
      "\n",
      "    LogM_el  metallicity_eu  metallicity_el  E(B-V)_eu  E(B-V)_el  LogSFR_eu  \\\n",
      "0     0.073        0.101926        0.146910   0.153066   0.146351   0.264991   \n",
      "1     0.066        0.099669        0.154149   0.147990   0.154811   0.338250   \n",
      "2     0.068        0.135156        0.181446   0.161233   0.161467   0.524529   \n",
      "3     0.082        0.101564        0.162626   0.154612   0.151101   0.350625   \n",
      "4     0.044        0.102356        0.146754   0.151050   0.153332   0.331218   \n",
      "5     0.047        0.107515        0.159280   0.156370   0.152166   0.389381   \n",
      "6     0.052        0.135444        0.175933   0.159118   0.160765   0.566158   \n",
      "7     0.050        0.106403        0.150726   0.152583   0.152969   0.356241   \n",
      "8     0.039        0.097483        0.151281   0.148832   0.149149   0.307604   \n",
      "9     0.055        0.103369        0.155024   0.149293   0.154437   0.350573   \n",
      "10    0.047        0.100742        0.147390   0.154731   0.152370   0.311384   \n",
      "11    0.049        0.115013        0.171794   0.155357   0.157427   0.428310   \n",
      "12    0.043        0.091937        0.138891   0.148908   0.148478   0.254171   \n",
      "13    0.074        0.113949        0.156226   0.158125   0.158903   0.446275   \n",
      "14    0.074        0.163672        0.645691   0.170770   0.171181   0.280960   \n",
      "15    0.079        0.120615        0.169631   0.163691   0.158727   0.399362   \n",
      "16    0.072        0.118425        0.179902   0.154295   0.155227   0.410852   \n",
      "17    0.070        0.169193        0.258302   0.163729   0.162093   0.616566   \n",
      "18    0.071        0.130482        0.423840   0.163682   0.166228   0.425234   \n",
      "19    0.060        0.119654        0.164081   0.161940   0.157815   0.423981   \n",
      "20    0.036        0.214127        1.135814   0.168994   0.168157   0.553294   \n",
      "21    0.052        0.185500        1.246954   0.167093   0.162859   0.399898   \n",
      "22    0.058        0.135438        0.200459   0.165832   0.165474   0.457048   \n",
      "23    0.050        0.102364        0.169331   0.154007   0.154869   0.308830   \n",
      "24    0.058        0.148848        0.241300   0.167185   0.166364   0.558844   \n",
      "25    0.059        0.124999        0.167125   0.165681   0.156636   0.360784   \n",
      "26    0.059        0.115274        0.171422   0.163485   0.159803   0.376617   \n",
      "27    0.073        0.291457        0.422921   0.176862   0.169178   1.223462   \n",
      "28    0.077        0.651013        0.498340   0.181013   0.173403   1.521414   \n",
      "\n",
      "    LogSFR_el  \n",
      "0    0.254406  \n",
      "1    0.352525  \n",
      "2    0.525289  \n",
      "3    0.343383  \n",
      "4    0.335826  \n",
      "5    0.379836  \n",
      "6    0.571622  \n",
      "7    0.357099  \n",
      "8    0.308239  \n",
      "9    0.361640  \n",
      "10   0.307055  \n",
      "11   0.433590  \n",
      "12   0.253526  \n",
      "13   0.448314  \n",
      "14   0.281804  \n",
      "15   0.388696  \n",
      "16   0.413168  \n",
      "17   0.611288  \n",
      "18   0.430964  \n",
      "19   0.414400  \n",
      "20   0.555248  \n",
      "21   0.396441  \n",
      "22   0.456276  \n",
      "23   0.310434  \n",
      "24   0.556535  \n",
      "25   0.343614  \n",
      "26   0.369309  \n",
      "27   1.190617  \n",
      "28   1.473295  \n",
      "    HPS_name      ID ...         E(B-V)                  LogSFR        \n",
      "---------------- --- ... ---------------------- -----------------------\n",
      "HPS022127-043019  35 ... $0.40^{+0.15}_{-0.15}$  $0.90^{+0.34}_{-0.35}$\n",
      "HPS030630+000128  44 ... $0.37^{+0.16}_{-0.16}$ $-0.16^{+0.45}_{-0.45}$\n",
      "HPS030638+000015  65 ... $0.34^{+0.15}_{-0.15}$  $0.67^{+0.27}_{-0.25}$\n",
      "HPS030638+000240  67 ... $0.42^{+0.17}_{-0.17}$  $0.24^{+0.28}_{-0.28}$\n",
      "HPS030649+000314 105 ... $0.40^{+0.16}_{-0.16}$ $-0.14^{+0.53}_{-0.53}$\n",
      "HPS030651-000234 118 ... $0.36^{+0.16}_{-0.16}$ $-0.25^{+0.40}_{-0.39}$\n",
      "HPS030652+000123 119 ... $0.41^{+0.15}_{-0.15}$  $0.56^{+0.41}_{-0.41}$\n",
      "HPS030655-000050 125 ... $0.45^{+0.16}_{-0.17}$  $0.73^{+0.42}_{-0.43}$\n",
      "HPS030655+000213 129 ... $0.43^{+0.16}_{-0.16}$  $0.06^{+0.62}_{-0.61}$\n",
      "HPS030657+000139 138 ... $0.41^{+0.15}_{-0.15}$  $0.22^{+0.35}_{-0.34}$\n",
      "             ... ... ...                    ...                     ...\n",
      "HPS100037+021254 300 ... $0.41^{+0.15}_{-0.15}$  $0.03^{+0.31}_{-0.31}$\n",
      "HPS100039+021246 303 ... $0.42^{+0.17}_{-0.17}$ $-0.07^{+0.56}_{-0.56}$\n",
      "HPS100045+021823 326 ... $0.36^{+0.15}_{-0.15}$  $0.16^{+0.36}_{-0.36}$\n",
      "HPS123632+621037 363 ... $0.33^{+0.17}_{-0.16}$  $0.14^{+0.36}_{-0.34}$\n",
      "HPS123636+621135 375 ... $0.42^{+0.15}_{-0.15}$  $0.66^{+0.31}_{-0.31}$\n",
      "HPS123641+621131 386 ... $0.36^{+0.15}_{-0.15}$  $0.16^{+0.35}_{-0.36}$\n",
      "HPS123648+621426 413 ... $0.35^{+0.15}_{-0.15}$  $0.72^{+0.31}_{-0.31}$\n",
      "HPS123652+621125 430 ... $0.49^{+0.18}_{-0.17}$ $-1.27^{+1.52}_{-1.47}$\n",
      "HPS123656+621420 438 ... $0.38^{+0.16}_{-0.16}$ $-0.31^{+0.38}_{-0.37}$\n",
      "HPS123659+621404 449 ... $0.40^{+0.15}_{-0.16}$ $-0.18^{+0.43}_{-0.43}$\n",
      "HPS123702+621123 458 ... $0.34^{+0.15}_{-0.15}$  $0.52^{+0.25}_{-0.25}$\n",
      "Length = 29 rows\n"
     ]
    }
   ],
   "source": [
    "hps_props = hps.loc[:,['HPS_name', 'ID', 'LogM', 'metallicity', 'E(B-V)', 'log_SFR_met_corr', 'LogM_eu', 'LogM_el', 'met_eu', 'met_el', 'E(B-V)_eu', 'E(B-V)_el', 'log_SFR_met_corr_eu', 'log_SFR_met_corr_el']]\n",
    "hps_props.rename(columns={'log_SFR_met_corr':'LogSFR', 'log_SFR_met_corr_eu':'LogSFR_eu', 'log_SFR_met_corr_el':'LogSFR_el', 'met_eu':'metallicity_eu', 'met_el':'metallicity_el'}, inplace=True)\n",
    "\n",
    "print hps_props\n",
    "hps_props.to_csv('/Users/Briana/Documents/Grad_School/HPS/Paper_tables/hps_props_enhanced.csv')\n",
    "\n",
    "prop_lis = ['LogM', 'metallicity', 'E(B-V)', 'LogSFR']\n",
    "for p in prop_lis:\n",
    "    hps_props[p]=['$'+str(\"%.2f\" % np.round(hps_props[p].iloc[i],2))+'^{+'+str(\"%.2f\" % np.round(hps_props[p+'_eu'].iloc[i],3))+'}_{-'+str(\"%.2f\" % np.round(hps_props[p+'_el'].iloc[i],3))+'}$'  for i in range(len(hps_props))]\n",
    "\n",
    "hps_props = hps_props.loc[:,['HPS_name', 'ID', 'LogM', 'metallicity', 'E(B-V)', 'LogSFR']]\n",
    "    \n",
    "prop_table = Table.from_pandas(hps_props)\n",
    "prop_table['ID'] = prop_table['ID'].astype(int)\n",
    "\n",
    "prop_table.sort(['ID'])\n",
    "    \n",
    "print(prop_table)\n",
    "prop_table.write(os.path.join(table_path, 'HPS_properties.tex'), format='ascii.aastex', overwrite=True)\n",
    "\n"
   ]
  },
  {
   "cell_type": "code",
   "execution_count": null,
   "metadata": {},
   "outputs": [],
   "source": []
  },
  {
   "cell_type": "code",
   "execution_count": null,
   "metadata": {},
   "outputs": [],
   "source": []
  },
  {
   "cell_type": "code",
   "execution_count": null,
   "metadata": {},
   "outputs": [],
   "source": []
  }
 ],
 "metadata": {
  "kernelspec": {
   "display_name": "Python 2",
   "language": "python",
   "name": "python2"
  },
  "language_info": {
   "codemirror_mode": {
    "name": "ipython",
    "version": 2
   },
   "file_extension": ".py",
   "mimetype": "text/x-python",
   "name": "python",
   "nbconvert_exporter": "python",
   "pygments_lexer": "ipython2",
   "version": "2.7.16"
  }
 },
 "nbformat": 4,
 "nbformat_minor": 2
}
