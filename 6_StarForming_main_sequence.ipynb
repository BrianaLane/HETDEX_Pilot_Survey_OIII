{
 "cells": [
  {
   "cell_type": "code",
   "execution_count": 100,
   "metadata": {},
   "outputs": [],
   "source": [
    "import pandas as pd\n",
    "import numpy as np\n",
    "import math\n",
    "from bs4 import BeautifulSoup\n",
    "import re\n",
    "import matplotlib.pyplot as plt"
   ]
  },
  {
   "cell_type": "markdown",
   "metadata": {},
   "source": [
    "# Mannucci 2010"
   ]
  },
  {
   "cell_type": "code",
   "execution_count": 101,
   "metadata": {},
   "outputs": [],
   "source": [
    "html_file = '/Users/Briana/Documents/Grad_School/HPS/Mannucci_table.html'"
   ]
  },
  {
   "cell_type": "code",
   "execution_count": 102,
   "metadata": {},
   "outputs": [],
   "source": [
    "# cols = ['log(SFR)', '9.10', '9.25', '9.40', '9.55', '9.70', '9.85', '10.00', '10.15', '10.30', '10.45', '10.60', '10.75', '10.90', '11.05', '11.20', '11.35' ]\n",
    "# df = pd.read_html(html_file, flavor='bs4', header=0)\n",
    "# df = df[0]\n",
    "# df.columns = cols\n",
    "\n",
    "# df.to_csv('/Users/Briana/Documents/Grad_School/HPS/Mannucci_table.csv', index=False)"
   ]
  },
  {
   "cell_type": "code",
   "execution_count": 103,
   "metadata": {},
   "outputs": [],
   "source": [
    "df = pd.read_csv('/Users/Briana/Documents/Grad_School/HPS/Mannucci_table.csv')"
   ]
  },
  {
   "cell_type": "code",
   "execution_count": 111,
   "metadata": {},
   "outputs": [],
   "source": [
    "met_df = df[0::3]\n",
    "err_df = df[1::3]\n",
    "num_df = df[2::3]\n",
    "\n",
    "met_df.fillna(0, inplace=True)\n",
    "#print(met_df)"
   ]
  },
  {
   "cell_type": "code",
   "execution_count": 112,
   "metadata": {},
   "outputs": [],
   "source": [
    "numT = num_df.transpose()\n",
    "new_header = numT.iloc[0] #grab the first row for the header\n",
    "numT = numT[1:] #take the data less the header row\n",
    "numT.columns = new_header #set the header row as the df header\n",
    "numT.fillna(0, inplace=True)\n",
    "#print(numT)"
   ]
  },
  {
   "cell_type": "code",
   "execution_count": 106,
   "metadata": {},
   "outputs": [
    {
     "name": "stdout",
     "output_type": "stream",
     "text": [
      "['9.10' '9.25' '9.40' '9.55' '9.70' '9.85' '10.00' '10.15' '10.30' '10.45'\n",
      " '10.60' '10.75' '10.90' '11.05' '11.20' '11.35']\n",
      "[ 9.1   9.25  9.4   9.55  9.7   9.85 10.   10.15 10.3  10.45 10.6  10.75\n",
      " 10.9  11.05 11.2  11.35]\n",
      "[-1.45 -1.3  -1.15 -1.   -0.85 -0.7  -0.55 -0.4  -0.25 -0.1   0.05  0.2\n",
      "  0.35  0.5   0.65  0.8 ]\n"
     ]
    }
   ],
   "source": [
    "mass_names = numT.index.values\n",
    "mass = numT.index.astype(float).values\n",
    "sfr = numT.columns.values\n",
    "print(mass_names)\n",
    "print(mass)\n",
    "print(sfr)"
   ]
  },
  {
   "cell_type": "code",
   "execution_count": 113,
   "metadata": {},
   "outputs": [],
   "source": [
    "def weighted_avg_and_std(values, weights):\n",
    "    average = np.average(values, weights=weights)\n",
    "    variance = np.average((values-average)**2, weights=weights)\n",
    "    return (average, math.sqrt(variance))\n",
    "\n",
    "def weighted_avg_and_std(values, errors, weights):\n",
    "    average = np.average(values, weights=weights)\n",
    "    error = np.average(errors, weights=weights)\n",
    "    return (average, error)\n",
    "\n",
    "weighted_sfr = []\n",
    "weighted_std = []\n",
    "weighted_met = []\n",
    "weighted_met_std = []\n",
    "for m in mass_names:\n",
    "    weights = numT.loc[m,:]\n",
    "    avg_sfr, std_sfr = weighted_avg_and_std(sfr, weights)\n",
    "    met = met_df[m].values\n",
    "    avg_met, std_met = weighted_avg_and_std(met, weights)\n",
    "    weighted_sfr.append(avg_sfr)\n",
    "    weighted_std.append(std_sfr)\n",
    "    weighted_met.append(avg_met)\n",
    "    weighted_met_std.append(std_met)\n",
    "\n",
    "weighted_sfr = np.array(weighted_sfr)\n",
    "weighted_std = np.array(weighted_std)\n",
    "weighted_met = np.array(weighted_met)\n",
    "weighted_met_std = np.array(weighted_met_std)\n",
    "\n",
    "# print(weighted_sfr)\n",
    "# print(weighted_std)\n",
    "# print(weighted_met)\n",
    "# print(weighted_met_std)"
   ]
  },
  {
   "cell_type": "code",
   "execution_count": 110,
   "metadata": {},
   "outputs": [],
   "source": [
    "OII_sfr = 0.97*weighted_sfr-0.03\n",
    "OII_sfr_e = np.sqrt(((weighted_sfr*0.02)**2) + ((0.97*weighted_std)**2) + ((0.02)**2))\n",
    "\n",
    "np.save('/Users/Briana/Documents/Grad_School/HPS/HPS_dataframes/mannucci_oii_sfr', OII_sfr)\n",
    "np.save('/Users/Briana/Documents/Grad_School/HPS/HPS_dataframes/mannucci_oii_sfr_error', OII_sfr_e)\n",
    "np.save('/Users/Briana/Documents/Grad_School/HPS/HPS_dataframes/mannucci_oii_masses', mass)"
   ]
  },
  {
   "cell_type": "code",
   "execution_count": 109,
   "metadata": {},
   "outputs": [
    {
     "data": {
      "text/plain": [
       "<matplotlib.collections.PolyCollection at 0x11d77e438>"
      ]
     },
     "execution_count": 109,
     "metadata": {},
     "output_type": "execute_result"
    },
    {
     "data": {
      "image/png": "[encoded data removed]",
      "text/plain": [
       "<Figure size 432x288 with 1 Axes>"
      ]
     },
     "metadata": {
      "needs_background": "light"
     },
     "output_type": "display_data"
    }
   ],
   "source": [
    "plt.scatter(mass, weighted_sfr)\n",
    "plt.scatter(mass, OII_sfr)\n",
    "#plt.fill_between(mass, weighted_sfr+weighted_std, weighted_sfr-weighted_std, color='lightgrey', alpha=1.0)\n",
    "plt.fill_between(mass, OII_sfr+OII_sfr_e, OII_sfr-OII_sfr_e, color='lightgrey', alpha=0.4)"
   ]
  },
  {
   "cell_type": "code",
   "execution_count": null,
   "metadata": {},
   "outputs": [],
   "source": [
    "#log[SFR([OII])] = (0.97 ± 0.02) log[SFR(Hα)] + (−0.03 ± 0.02)"
   ]
  },
  {
   "cell_type": "markdown",
   "metadata": {},
   "source": [
    "# Andrews 2013"
   ]
  },
  {
   "cell_type": "code",
   "execution_count": 121,
   "metadata": {},
   "outputs": [],
   "source": [
    "andrews = pd.read_csv('/Users/Briana/Documents/Grad_School/HPS/comparison_populations/SDSS_MZR/andrews_flux_table.csv')\n",
    "andrews_mb = andrews[np.isnan(andrews['logSFRlo'])]\n",
    "\n",
    "#print(andrews_mb.columns)\n",
    "#print(andrews_mb.loc[:,['logM*lo', 'logM*up', 'logSFRlo', 'logSFRup', 'Ngal','logM*', 'logSFR',]].head(100))"
   ]
  },
  {
   "cell_type": "code",
   "execution_count": 123,
   "metadata": {},
   "outputs": [],
   "source": [
    "OII_and_sfr = 0.97*andrews_mb['logSFR']-0.03"
   ]
  },
  {
   "cell_type": "code",
   "execution_count": 124,
   "metadata": {},
   "outputs": [
    {
     "data": {
      "text/plain": [
       "<matplotlib.collections.PathCollection at 0x11db36278>"
      ]
     },
     "execution_count": 124,
     "metadata": {},
     "output_type": "execute_result"
    },
    {
     "data": {
      "image/png": "[encoded data removed]",
      "text/plain": [
       "<Figure size 432x288 with 1 Axes>"
      ]
     },
     "metadata": {
      "needs_background": "light"
     },
     "output_type": "display_data"
    }
   ],
   "source": [
    "plt.scatter(andrews_mb['logM*'], OII_and_sfr)"
   ]
  },
  {
   "cell_type": "markdown",
   "metadata": {},
   "source": [
    "# Duarte Puertas 2017"
   ]
  },
  {
   "cell_type": "code",
   "execution_count": 125,
   "metadata": {},
   "outputs": [],
   "source": [
    "#Duarte Puertas function for log(SFR) from mass (Halpha)\n",
    "def DP_ha_sfr(mass):\n",
    "     return -0.03105*(mass**3) + 0.892*(mass**2) - 7.571*mass + 17.71"
   ]
  },
  {
   "cell_type": "code",
   "execution_count": 127,
   "metadata": {},
   "outputs": [],
   "source": [
    "#Duarte Puertas function for log(SFR) constant as a function of mass (Halpha)\n",
    "def DP_ha_nu(mass):\n",
    "    return -0.011*(mass**2) + 0.124*mass + 41.107"
   ]
  },
  {
   "cell_type": "code",
   "execution_count": 165,
   "metadata": {},
   "outputs": [
    {
     "data": {
      "text/plain": [
       "<matplotlib.collections.PolyCollection at 0x11e590390>"
      ]
     },
     "execution_count": 165,
     "metadata": {},
     "output_type": "execute_result"
    },
    {
     "data": {
      "image/png": "[encoded data removed]",
      "text/plain": [
       "<Figure size 432x288 with 1 Axes>"
      ]
     },
     "metadata": {
      "needs_background": "light"
     },
     "output_type": "display_data"
    }
   ],
   "source": [
    "mass = np.linspace(8.5, 11.0, 100)\n",
    "sfr_ha = DP_ha_sfr(mass)\n",
    "nu_ha  = DP_ha_nu(mass) \n",
    "\n",
    "log_sfr_ha = 10**sfr_ha\n",
    "log_nu_ha  = 10**nu_ha\n",
    "\n",
    "Lum_ha = log_sfr_ha * log_nu_ha\n",
    "Lum_ha_e = log_nu_ha*(0.3)\n",
    "\n",
    "plt.scatter(mass, Lum_ha)\n",
    "plt.fill_between(mass, Lum_ha+Lum_ha_e, Lum_ha-Lum_ha_e, color='grey', alpha=0.4)"
   ]
  },
  {
   "cell_type": "code",
   "execution_count": 163,
   "metadata": {},
   "outputs": [
    {
     "data": {
      "text/plain": [
       "<matplotlib.collections.PathCollection at 0x11e51d828>"
      ]
     },
     "execution_count": 163,
     "metadata": {},
     "output_type": "execute_result"
    },
    {
     "data": {
      "image/png": "[encoded data removed]",
      "text/plain": [
       "<Figure size 432x288 with 1 Axes>"
      ]
     },
     "metadata": {
      "needs_background": "light"
     },
     "output_type": "display_data"
    }
   ],
   "source": [
    "# K98 SFR\n",
    "k98_sfr = 7.9e-42*Lum_ha\n",
    "k98_sfr_e = 7.9e-42*Lum_ha_e\n",
    "\n",
    "log_k98_sfr = np.log10(k98_sfr)\n",
    "log_k98_sfr_e = 0.434*(k98_sfr_e/k98_sfr)\n",
    "\n",
    "plt.scatter(mass, k98_sfr_e/k98_sfr)\n",
    "#plt.scatter(mass, log_k98_sfr)\n",
    "#plt.fill_between(mass, log_k98_sfr+log_k98_sfr_e, log_k98_sfr-log_k98_sfr_e, color='grey', alpha=0.4)"
   ]
  },
  {
   "cell_type": "code",
   "execution_count": 166,
   "metadata": {},
   "outputs": [],
   "source": [
    "#log[SFR([OII])] = (0.97 ± 0.02) log[SFR(Hα)] + (−0.03 ± 0.02)\n",
    "\n",
    "oii_sfr = 0.97*log_k98_sfr - 0.03\n",
    "oii_sfr_e = np.sqrt(((log_k98_sfr*0.02)**2) + ((0.97*log_k98_sfr_e)**2) + ((0.02)**2))\n",
    "\n",
    "np.save('/Users/Briana/Documents/Grad_School/HPS/HPS_dataframes/duartepuertas_oii_sfr', oii_sfr)"
   ]
  },
  {
   "cell_type": "code",
   "execution_count": 158,
   "metadata": {},
   "outputs": [
    {
     "data": {
      "text/plain": [
       "<matplotlib.legend.Legend at 0x11e2250f0>"
      ]
     },
     "execution_count": 158,
     "metadata": {},
     "output_type": "execute_result"
    },
    {
     "data": {
      "image/png": "[encoded data removed]",
      "text/plain": [
       "<Figure size 432x288 with 1 Axes>"
      ]
     },
     "metadata": {
      "needs_background": "light"
     },
     "output_type": "display_data"
    }
   ],
   "source": [
    "plt.scatter(mass, log_k98_sfr, label='K98')\n",
    "plt.scatter(mass, sfr_ha, label='DP17')\n",
    "plt.scatter(mass, oii_sfr, label='OII')\n",
    "plt.fill_between(mass, sfr_ha+0.3, sfr_ha-0.3, color='lightgrey', alpha=0.4)\n",
    "plt.fill_between(mass, oii_sfr+oii_sfr_e, oii_sfr-oii_sfr_e, color='grey', alpha=0.4)\n",
    "plt.legend()"
   ]
  },
  {
   "cell_type": "code",
   "execution_count": null,
   "metadata": {},
   "outputs": [],
   "source": []
  }
 ],
 "metadata": {
  "kernelspec": {
   "display_name": "Python 2",
   "language": "python",
   "name": "python2"
  },
  "language_info": {
   "codemirror_mode": {
    "name": "ipython",
    "version": 2
   },
   "file_extension": ".py",
   "mimetype": "text/x-python",
   "name": "python",
   "nbconvert_exporter": "python",
   "pygments_lexer": "ipython2",
   "version": "2.7.16"
  }
 },
 "nbformat": 4,
 "nbformat_minor": 2
}
